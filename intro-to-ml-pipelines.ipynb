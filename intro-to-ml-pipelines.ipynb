{
  "cells": [
    {
      "cell_type": "markdown",
      "metadata": {
        "id": "RC0pFC2bGuaz"
      },
      "source": [
        "# Intro to Machine Learning Pipelines\n",
        "\n",
        "<a target=\"_blank\" href=\"https://colab.research.google.com/github/unionai-oss/intro-to-ml-pipelines/blob/main/intro-to-ml-pipelines.ipynb\">\n",
        "  <img src=\"https://colab.research.google.com/assets/colab-badge.svg\" alt=\"Open In Colab\"/>\n",
        "</a>"
      ]
    },
    {
      "cell_type": "markdown",
      "metadata": {
        "id": "mzqGuApAEcvU"
      },
      "source": [
        "Google Colab / Jupyter notebook"
      ]
    },
    {
      "cell_type": "code",
      "execution_count": 12,
      "metadata": {
        "colab": {
          "base_uri": "https://localhost:8080/"
        },
        "id": "0YG0xUWqt0eG",
        "outputId": "652fac54-1304-44cc-8315-fc3f9f63b445"
      },
      "outputs": [
        {
          "name": "stdout",
          "output_type": "stream",
          "text": [
            "Hello, world!\n"
          ]
        }
      ],
      "source": [
        "print(\"Hello, world!\")"
      ]
    },
    {
      "cell_type": "markdown",
      "metadata": {
        "id": "89e1mzmREc5U"
      },
      "source": [
        "# Workshop Setup\n",
        "\n",
        "Sign up for Union while libraries are installing below:\n",
        "\n",
        "- Union sign up: https://signup.union.ai/?group=workshop\n",
        "- Union Platform: https://serverless.union.ai/\n",
        "- Hugging Face Sign up: https://huggingface.co/\n",
        "\n",
        "Install python libraries by running the code cell below:"
      ]
    },
    {
      "cell_type": "code",
      "execution_count": null,
      "metadata": {
        "collapsed": true,
        "id": "J8d3u5gl3mvM"
      },
      "outputs": [],
      "source": [
        "%%bash\n",
        "pip install -U scikit-learn==1.4.1.post1 matplotlib==3.8.3 seaborn==0.13.2 union==0.1.48 keyrings.alt==5.0.0 huggingface_hub==0.24.0 joblib==1.3.2"
      ]
    },
    {
      "cell_type": "markdown",
      "metadata": {
        "id": "6nroELgiFiJI"
      },
      "source": [
        "Auth Union"
      ]
    },
    {
      "cell_type": "code",
      "execution_count": 7,
      "metadata": {
        "colab": {
          "base_uri": "https://localhost:8080/"
        },
        "id": "MHmjN0PBFe8f",
        "outputId": "e173eb1d-0e79-4f0a-c62d-a3d6bb4215e5"
      },
      "outputs": [
        {
          "name": "stdout",
          "output_type": "stream",
          "text": [
            "Login successful!\n"
          ]
        }
      ],
      "source": [
        "!union create login --auth device-flow"
      ]
    },
    {
      "cell_type": "markdown",
      "metadata": {
        "id": "awvHr4VgFr6R"
      },
      "source": [
        "## Build a Simple Workflow\n",
        "- Task Docs\n",
        "- Workflow Docs\n",
        "\n",
        "Flyte\n",
        "\n",
        "Union\n"
      ]
    },
    {
      "cell_type": "code",
      "execution_count": null,
      "metadata": {
        "id": "9roHK4yoFf_A"
      },
      "outputs": [],
      "source": [
        "%%writefile simple_wf.py\n",
        "\n",
        "# Import libraries and modules\n",
        "# task\n",
        "from flytekit import task, workflow\n",
        "\n",
        "@task\n",
        "def hello_world(name: str) -> str:\n",
        "    return f\"Hello {name}\"\n",
        "\n",
        "# workflow\n",
        "@workflow\n",
        "def main(name: str) -> str:\n",
        "    return hello_world(name=name)\n"
      ]
    },
    {
      "cell_type": "code",
      "execution_count": null,
      "metadata": {
        "id": "rusS2jq8F8d0"
      },
      "outputs": [],
      "source": [
        "# Run locally\n",
        "!union run simple_wf.py main --name Flyte"
      ]
    },
    {
      "cell_type": "code",
      "execution_count": null,
      "metadata": {
        "id": "mfE-f7Y5F8p8"
      },
      "outputs": [],
      "source": [
        "# Run on Union\n",
        "!union run --remote simple_wf.py main --name Flyte"
      ]
    },
    {
      "cell_type": "code",
      "execution_count": null,
      "metadata": {
        "id": "_AqWp5nSEe87"
      },
      "outputs": [],
      "source": [
        "!union run simple_wf.py main --help"
      ]
    },
    {
      "cell_type": "code",
      "execution_count": null,
      "metadata": {
        "id": "7VDmcARWETwK"
      },
      "outputs": [],
      "source": [
        "!union run --help"
      ]
    },
    {
      "cell_type": "markdown",
      "metadata": {
        "id": "ycjgn7SzDYoz"
      },
      "source": [
        "# Machine Learning Workflow\n",
        "\n",
        "- Create a Container image\n",
        "- Download Dataset\n",
        "- Process Data & Visualize\n",
        "- Train Machine Learning Model\n",
        "- Evaluate Machine Learning Model\n",
        "- Save Model to Hugging Face Model Hub"
      ]
    },
    {
      "cell_type": "code",
      "execution_count": 46,
      "metadata": {
        "colab": {
          "base_uri": "https://localhost:8080/"
        },
        "id": "66QL-uU5vhzH",
        "outputId": "6548f852-0d73-4b32-a089-0d432201b70c"
      },
      "outputs": [
        {
          "name": "stdout",
          "output_type": "stream",
          "text": [
            "Enter secret value: \n",
            "Created secret with name: hf_token\n"
          ]
        }
      ],
      "source": [
        "# Secrets in Union\n",
        "# HF Secret\n",
        "!union create secret hf_token"
      ]
    },
    {
      "cell_type": "code",
      "execution_count": null,
      "metadata": {
        "colab": {
          "base_uri": "https://localhost:8080/"
        },
        "id": "kT5BEYwqFVpX",
        "outputId": "e33b86fe-5a53-462d-93a7-5ca39bfff45c"
      },
      "outputs": [],
      "source": [
        "!union get secret"
      ]
    },
    {
      "cell_type": "code",
      "execution_count": null,
      "metadata": {
        "id": "zktPlgQWFTs8"
      },
      "outputs": [],
      "source": [
        "# !union delete secret hf_token"
      ]
    },
    {
      "cell_type": "code",
      "execution_count": 61,
      "metadata": {
        "colab": {
          "base_uri": "https://localhost:8080/"
        },
        "id": "30dDbzdqDXI1",
        "outputId": "15248655-5b5f-438f-b104-7100ca5df225"
      },
      "outputs": [
        {
          "name": "stdout",
          "output_type": "stream",
          "text": [
            "Overwriting workflow.py\n"
          ]
        }
      ],
      "source": [
        "%%writefile workflow.py\n",
        "\n",
        "# Import libraries and modules\n",
        "from textwrap import dedent\n",
        "import html\n",
        "from flytekit import task, workflow, ImageSpec, current_context, Deck, Resources, Secret\n",
        "from flytekit.deck.renderer import MarkdownRenderer\n",
        "import pandas as pd\n",
        "from sklearn.datasets import fetch_openml\n",
        "from sklearn.model_selection import train_test_split\n",
        "from sklearn.metrics import (\n",
        "    ConfusionMatrixDisplay,\n",
        "    accuracy_score,\n",
        "    classification_report,\n",
        ")\n",
        "from sklearn.base import BaseEstimator\n",
        "from sklearn.ensemble import HistGradientBoostingClassifier\n",
        "import matplotlib.pyplot as plt\n",
        "import matplotlib as mpl\n",
        "import io\n",
        "import base64\n",
        "import seaborn as sns\n",
        "\n",
        "from huggingface_hub import HfApi\n",
        "\n",
        "from sklearn.datasets import load_iris\n",
        "import joblib\n",
        "\n",
        "# Define the container image to use for the tasks on Union with ImageSpec\n",
        "image = ImageSpec(\n",
        "    packages=[\n",
        "        \"scikit-learn==1.4.1.post1\",\n",
        "        \"matplotlib==3.8.3\",\n",
        "        \"union==0.1.48\",\n",
        "        \"seaborn==0.13.2\",\n",
        "        \"joblib==1.3.2\",\n",
        "        \"huggingface_hub==0.24.0\"\n",
        "    ],\n",
        ")\n",
        "\n",
        "# Helper function to convert a matplotlib figure into an HTML string\n",
        "def _convert_fig_into_html(fig: mpl.figure.Figure) -> str:\n",
        "    img_buf = io.BytesIO()\n",
        "    fig.savefig(img_buf, format=\"png\")\n",
        "    img_base64 = base64.b64encode(img_buf.getvalue()).decode()\n",
        "    return f'<img src=\"data:image/png;base64,{img_base64}\" alt=\"Rendered Image\" />'\n",
        "\n",
        "\n",
        "# Task: Download the dataset\n",
        "@task(\n",
        "    cache=True,\n",
        "    cache_version=\"6\",\n",
        "    container_image=image,\n",
        "    requests=Resources(cpu=\"2\", mem=\"2Gi\"),\n",
        ")\n",
        "def download_dataset() -> pd.DataFrame:\n",
        "    iris = load_iris()\n",
        "    iris_df = pd.DataFrame(data=iris.data, columns=iris.feature_names)\n",
        "    iris_df['target'] = iris.target\n",
        "    return iris_df\n",
        "\n",
        "# Task: Process the dataset\n",
        "@task(\n",
        "    enable_deck=True,\n",
        "    container_image=image,\n",
        "    requests=Resources(cpu=\"2\", mem=\"2Gi\"),\n",
        ")\n",
        "def process_dataset(data_df: pd.DataFrame) -> tuple[pd.DataFrame, pd.DataFrame]:\n",
        "\n",
        "    # Perform the train-test split\n",
        "    train_df, test_df = train_test_split(data_df,\n",
        "                                         test_size=0.2,\n",
        "                                         random_state=42,\n",
        "                                         stratify=data_df['target'])\n",
        "\n",
        "    # Seaborn pairplot full dataset\n",
        "    pairplot = sns.pairplot(data_df, hue=\"target\")\n",
        "\n",
        "    metrics_deck = Deck(\"Metrics\")\n",
        "    metrics_deck.append(_convert_fig_into_html(pairplot))\n",
        "\n",
        "    return train_df, test_df\n",
        "\n",
        "\n",
        "# Train a model using the HistGradientBoostingClassifier\n",
        "@task(\n",
        "    container_image=image,\n",
        "    requests=Resources(cpu=\"3\", mem=\"3Gi\"),\n",
        ")\n",
        "def train_model(dataset: pd.DataFrame) -> BaseEstimator:\n",
        "    X_train, y_train = dataset.drop(\"target\", axis=\"columns\"), dataset[\"target\"]\n",
        "    hist = HistGradientBoostingClassifier(\n",
        "        random_state=0, categorical_features=\"from_dtype\"\n",
        "    )\n",
        "    return hist.fit(X_train, y_train)\n",
        "\n",
        "# Evaluate the model using the test dataset\n",
        "@task(\n",
        "    container_image=image,\n",
        "    enable_deck=True,\n",
        "    requests=Resources(cpu=\"2\", mem=\"2Gi\"),\n",
        ")\n",
        "def evaluate_model(model: BaseEstimator, dataset: pd.DataFrame) -> BaseEstimator:\n",
        "    ctx = current_context()\n",
        "\n",
        "    X_test, y_test = dataset.drop(\"target\", axis=\"columns\"), dataset[\"target\"]\n",
        "    y_pred = model.predict(X_test)\n",
        "\n",
        "    # Plot confusion matrix in deck\n",
        "    fig, ax = plt.subplots()\n",
        "    ConfusionMatrixDisplay.from_predictions(y_test, y_pred, ax=ax)\n",
        "\n",
        "    metrics_deck = Deck(\"Metrics\")\n",
        "    metrics_deck.append(_convert_fig_into_html(fig))\n",
        "\n",
        "    # Add classification report\n",
        "    report = html.escape(classification_report(y_test, y_pred))\n",
        "    html_report = dedent(\n",
        "        f\"\"\"\\\n",
        "    <h2>Classification report</h2>\n",
        "    <pre>{report}</pre>\"\"\"\n",
        "    )\n",
        "    metrics_deck.append(html_report)\n",
        "\n",
        "    ctx.decks.insert(0, metrics_deck)\n",
        "\n",
        "    return model\n",
        "\n",
        "# Upload the model to Hugging Face Hub\n",
        "@task(\n",
        "    container_image=image,\n",
        "    requests=Resources(cpu=\"1\", mem=\"1Gi\"),\n",
        "    secret_requests=[Secret(group=None, key=\"hf_token\")],\n",
        ")\n",
        "def upload_model_to_hf(model: BaseEstimator, repo_name: str, model_name: str) -> str:\n",
        "    ctx = current_context()\n",
        "    hf_token = ctx.secrets.get(key=\"hf_token\")\n",
        "    # Create a new repository (if it doesn't exist)\n",
        "    api = HfApi()\n",
        "    api.create_repo(repo_name, token=hf_token, exist_ok=True)\n",
        "\n",
        "    # save model\n",
        "    joblib.dump(model, model_name)\n",
        "\n",
        "    # Upload the model to the HF repository\n",
        "    api.upload_file(\n",
        "        path_or_fileobj=model_name,\n",
        "        path_in_repo=model_name,\n",
        "        repo_id=repo_name,\n",
        "        commit_message=\"Upload model\",\n",
        "        repo_type=None,\n",
        "        token=hf_token\n",
        "    )\n",
        "    return f\"Model uploaded to Hugging Face Hub: {repo_name}{model_name}\"\n",
        "\n",
        "# Main workflow that orchestrates the tasks\n",
        "@workflow\n",
        "def main(repo_name: str, model_name: str) -> str:\n",
        "    data_df = download_dataset()\n",
        "    train, test = process_dataset(data_df)\n",
        "    model = train_model(dataset=train)\n",
        "    evaluated_model = evaluate_model(model=model, dataset=test)\n",
        "    model_name = model_name\n",
        "    upload_result = upload_model_to_hf(model=evaluated_model,\n",
        "                                       repo_name=repo_name,\n",
        "                                       model_name=model_name)\n",
        "    return upload_result\n"
      ]
    },
    {
      "cell_type": "code",
      "execution_count": null,
      "metadata": {
        "colab": {
          "base_uri": "https://localhost:8080/"
        },
        "id": "EBi1v9mfyZxe",
        "outputId": "63c242ee-c11c-4531-c458-4294ee267e8f"
      },
      "outputs": [],
      "source": [
        "! union run workflow.py main --help"
      ]
    },
    {
      "cell_type": "code",
      "execution_count": null,
      "metadata": {
        "id": "6xP-FsYtDXNY"
      },
      "outputs": [],
      "source": [
        "# Run workflow remotely (Union serverless) or your own compute\n",
        "!union run --remote workflow.py main --repo_name sagecodes/test-upload5 --model_name model.pkl"
      ]
    },
    {
      "cell_type": "markdown",
      "metadata": {
        "id": "eH3ez5efKJF4"
      },
      "source": [
        "View workflow in Union dashboard"
      ]
    },
    {
      "cell_type": "markdown",
      "metadata": {
        "id": "LberVtzTj7u2"
      },
      "source": [
        "## Download Model from Hugging Face Hub"
      ]
    },
    {
      "cell_type": "code",
      "execution_count": null,
      "metadata": {
        "id": "VmiVkrZTkvKJ"
      },
      "outputs": [],
      "source": [
        "from huggingface_hub import hf_hub_download\n",
        "hf_token = \"\"\n",
        "\n",
        "hf_model = hf_hub_download(repo_id=\"YOURUSERNAME/REPOID\",\n",
        "                filename=\"model.pkl\",\n",
        "                token=hf_token)\n",
        "\n",
        "model = joblib.load(hf_model)\n"
      ]
    },
    {
      "cell_type": "code",
      "execution_count": null,
      "metadata": {
        "colab": {
          "base_uri": "https://localhost:8080/",
          "height": 97
        },
        "id": "Dovy0q7hlvHQ",
        "outputId": "a8fd000b-8938-4d16-9c62-e98b64fe8866"
      },
      "outputs": [
        {
          "data": {
            "text/html": [
              "<style>#sk-container-id-1 {\n",
              "  /* Definition of color scheme common for light and dark mode */\n",
              "  --sklearn-color-text: black;\n",
              "  --sklearn-color-line: gray;\n",
              "  /* Definition of color scheme for unfitted estimators */\n",
              "  --sklearn-color-unfitted-level-0: #fff5e6;\n",
              "  --sklearn-color-unfitted-level-1: #f6e4d2;\n",
              "  --sklearn-color-unfitted-level-2: #ffe0b3;\n",
              "  --sklearn-color-unfitted-level-3: chocolate;\n",
              "  /* Definition of color scheme for fitted estimators */\n",
              "  --sklearn-color-fitted-level-0: #f0f8ff;\n",
              "  --sklearn-color-fitted-level-1: #d4ebff;\n",
              "  --sklearn-color-fitted-level-2: #b3dbfd;\n",
              "  --sklearn-color-fitted-level-3: cornflowerblue;\n",
              "\n",
              "  /* Specific color for light theme */\n",
              "  --sklearn-color-text-on-default-background: var(--sg-text-color, var(--theme-code-foreground, var(--jp-content-font-color1, black)));\n",
              "  --sklearn-color-background: var(--sg-background-color, var(--theme-background, var(--jp-layout-color0, white)));\n",
              "  --sklearn-color-border-box: var(--sg-text-color, var(--theme-code-foreground, var(--jp-content-font-color1, black)));\n",
              "  --sklearn-color-icon: #696969;\n",
              "\n",
              "  @media (prefers-color-scheme: dark) {\n",
              "    /* Redefinition of color scheme for dark theme */\n",
              "    --sklearn-color-text-on-default-background: var(--sg-text-color, var(--theme-code-foreground, var(--jp-content-font-color1, white)));\n",
              "    --sklearn-color-background: var(--sg-background-color, var(--theme-background, var(--jp-layout-color0, #111)));\n",
              "    --sklearn-color-border-box: var(--sg-text-color, var(--theme-code-foreground, var(--jp-content-font-color1, white)));\n",
              "    --sklearn-color-icon: #878787;\n",
              "  }\n",
              "}\n",
              "\n",
              "#sk-container-id-1 {\n",
              "  color: var(--sklearn-color-text);\n",
              "}\n",
              "\n",
              "#sk-container-id-1 pre {\n",
              "  padding: 0;\n",
              "}\n",
              "\n",
              "#sk-container-id-1 input.sk-hidden--visually {\n",
              "  border: 0;\n",
              "  clip: rect(1px 1px 1px 1px);\n",
              "  clip: rect(1px, 1px, 1px, 1px);\n",
              "  height: 1px;\n",
              "  margin: -1px;\n",
              "  overflow: hidden;\n",
              "  padding: 0;\n",
              "  position: absolute;\n",
              "  width: 1px;\n",
              "}\n",
              "\n",
              "#sk-container-id-1 div.sk-dashed-wrapped {\n",
              "  border: 1px dashed var(--sklearn-color-line);\n",
              "  margin: 0 0.4em 0.5em 0.4em;\n",
              "  box-sizing: border-box;\n",
              "  padding-bottom: 0.4em;\n",
              "  background-color: var(--sklearn-color-background);\n",
              "}\n",
              "\n",
              "#sk-container-id-1 div.sk-container {\n",
              "  /* jupyter's `normalize.less` sets `[hidden] { display: none; }`\n",
              "     but bootstrap.min.css set `[hidden] { display: none !important; }`\n",
              "     so we also need the `!important` here to be able to override the\n",
              "     default hidden behavior on the sphinx rendered scikit-learn.org.\n",
              "     See: https://github.com/scikit-learn/scikit-learn/issues/21755 */\n",
              "  display: inline-block !important;\n",
              "  position: relative;\n",
              "}\n",
              "\n",
              "#sk-container-id-1 div.sk-text-repr-fallback {\n",
              "  display: none;\n",
              "}\n",
              "\n",
              "div.sk-parallel-item,\n",
              "div.sk-serial,\n",
              "div.sk-item {\n",
              "  /* draw centered vertical line to link estimators */\n",
              "  background-image: linear-gradient(var(--sklearn-color-text-on-default-background), var(--sklearn-color-text-on-default-background));\n",
              "  background-size: 2px 100%;\n",
              "  background-repeat: no-repeat;\n",
              "  background-position: center center;\n",
              "}\n",
              "\n",
              "/* Parallel-specific style estimator block */\n",
              "\n",
              "#sk-container-id-1 div.sk-parallel-item::after {\n",
              "  content: \"\";\n",
              "  width: 100%;\n",
              "  border-bottom: 2px solid var(--sklearn-color-text-on-default-background);\n",
              "  flex-grow: 1;\n",
              "}\n",
              "\n",
              "#sk-container-id-1 div.sk-parallel {\n",
              "  display: flex;\n",
              "  align-items: stretch;\n",
              "  justify-content: center;\n",
              "  background-color: var(--sklearn-color-background);\n",
              "  position: relative;\n",
              "}\n",
              "\n",
              "#sk-container-id-1 div.sk-parallel-item {\n",
              "  display: flex;\n",
              "  flex-direction: column;\n",
              "}\n",
              "\n",
              "#sk-container-id-1 div.sk-parallel-item:first-child::after {\n",
              "  align-self: flex-end;\n",
              "  width: 50%;\n",
              "}\n",
              "\n",
              "#sk-container-id-1 div.sk-parallel-item:last-child::after {\n",
              "  align-self: flex-start;\n",
              "  width: 50%;\n",
              "}\n",
              "\n",
              "#sk-container-id-1 div.sk-parallel-item:only-child::after {\n",
              "  width: 0;\n",
              "}\n",
              "\n",
              "/* Serial-specific style estimator block */\n",
              "\n",
              "#sk-container-id-1 div.sk-serial {\n",
              "  display: flex;\n",
              "  flex-direction: column;\n",
              "  align-items: center;\n",
              "  background-color: var(--sklearn-color-background);\n",
              "  padding-right: 1em;\n",
              "  padding-left: 1em;\n",
              "}\n",
              "\n",
              "\n",
              "/* Toggleable style: style used for estimator/Pipeline/ColumnTransformer box that is\n",
              "clickable and can be expanded/collapsed.\n",
              "- Pipeline and ColumnTransformer use this feature and define the default style\n",
              "- Estimators will overwrite some part of the style using the `sk-estimator` class\n",
              "*/\n",
              "\n",
              "/* Pipeline and ColumnTransformer style (default) */\n",
              "\n",
              "#sk-container-id-1 div.sk-toggleable {\n",
              "  /* Default theme specific background. It is overwritten whether we have a\n",
              "  specific estimator or a Pipeline/ColumnTransformer */\n",
              "  background-color: var(--sklearn-color-background);\n",
              "}\n",
              "\n",
              "/* Toggleable label */\n",
              "#sk-container-id-1 label.sk-toggleable__label {\n",
              "  cursor: pointer;\n",
              "  display: block;\n",
              "  width: 100%;\n",
              "  margin-bottom: 0;\n",
              "  padding: 0.5em;\n",
              "  box-sizing: border-box;\n",
              "  text-align: center;\n",
              "}\n",
              "\n",
              "#sk-container-id-1 label.sk-toggleable__label-arrow:before {\n",
              "  /* Arrow on the left of the label */\n",
              "  content: \"▸\";\n",
              "  float: left;\n",
              "  margin-right: 0.25em;\n",
              "  color: var(--sklearn-color-icon);\n",
              "}\n",
              "\n",
              "#sk-container-id-1 label.sk-toggleable__label-arrow:hover:before {\n",
              "  color: var(--sklearn-color-text);\n",
              "}\n",
              "\n",
              "/* Toggleable content - dropdown */\n",
              "\n",
              "#sk-container-id-1 div.sk-toggleable__content {\n",
              "  max-height: 0;\n",
              "  max-width: 0;\n",
              "  overflow: hidden;\n",
              "  text-align: left;\n",
              "  /* unfitted */\n",
              "  background-color: var(--sklearn-color-unfitted-level-0);\n",
              "}\n",
              "\n",
              "#sk-container-id-1 div.sk-toggleable__content.fitted {\n",
              "  /* fitted */\n",
              "  background-color: var(--sklearn-color-fitted-level-0);\n",
              "}\n",
              "\n",
              "#sk-container-id-1 div.sk-toggleable__content pre {\n",
              "  margin: 0.2em;\n",
              "  border-radius: 0.25em;\n",
              "  color: var(--sklearn-color-text);\n",
              "  /* unfitted */\n",
              "  background-color: var(--sklearn-color-unfitted-level-0);\n",
              "}\n",
              "\n",
              "#sk-container-id-1 div.sk-toggleable__content.fitted pre {\n",
              "  /* unfitted */\n",
              "  background-color: var(--sklearn-color-fitted-level-0);\n",
              "}\n",
              "\n",
              "#sk-container-id-1 input.sk-toggleable__control:checked~div.sk-toggleable__content {\n",
              "  /* Expand drop-down */\n",
              "  max-height: 200px;\n",
              "  max-width: 100%;\n",
              "  overflow: auto;\n",
              "}\n",
              "\n",
              "#sk-container-id-1 input.sk-toggleable__control:checked~label.sk-toggleable__label-arrow:before {\n",
              "  content: \"▾\";\n",
              "}\n",
              "\n",
              "/* Pipeline/ColumnTransformer-specific style */\n",
              "\n",
              "#sk-container-id-1 div.sk-label input.sk-toggleable__control:checked~label.sk-toggleable__label {\n",
              "  color: var(--sklearn-color-text);\n",
              "  background-color: var(--sklearn-color-unfitted-level-2);\n",
              "}\n",
              "\n",
              "#sk-container-id-1 div.sk-label.fitted input.sk-toggleable__control:checked~label.sk-toggleable__label {\n",
              "  background-color: var(--sklearn-color-fitted-level-2);\n",
              "}\n",
              "\n",
              "/* Estimator-specific style */\n",
              "\n",
              "/* Colorize estimator box */\n",
              "#sk-container-id-1 div.sk-estimator input.sk-toggleable__control:checked~label.sk-toggleable__label {\n",
              "  /* unfitted */\n",
              "  background-color: var(--sklearn-color-unfitted-level-2);\n",
              "}\n",
              "\n",
              "#sk-container-id-1 div.sk-estimator.fitted input.sk-toggleable__control:checked~label.sk-toggleable__label {\n",
              "  /* fitted */\n",
              "  background-color: var(--sklearn-color-fitted-level-2);\n",
              "}\n",
              "\n",
              "#sk-container-id-1 div.sk-label label.sk-toggleable__label,\n",
              "#sk-container-id-1 div.sk-label label {\n",
              "  /* The background is the default theme color */\n",
              "  color: var(--sklearn-color-text-on-default-background);\n",
              "}\n",
              "\n",
              "/* On hover, darken the color of the background */\n",
              "#sk-container-id-1 div.sk-label:hover label.sk-toggleable__label {\n",
              "  color: var(--sklearn-color-text);\n",
              "  background-color: var(--sklearn-color-unfitted-level-2);\n",
              "}\n",
              "\n",
              "/* Label box, darken color on hover, fitted */\n",
              "#sk-container-id-1 div.sk-label.fitted:hover label.sk-toggleable__label.fitted {\n",
              "  color: var(--sklearn-color-text);\n",
              "  background-color: var(--sklearn-color-fitted-level-2);\n",
              "}\n",
              "\n",
              "/* Estimator label */\n",
              "\n",
              "#sk-container-id-1 div.sk-label label {\n",
              "  font-family: monospace;\n",
              "  font-weight: bold;\n",
              "  display: inline-block;\n",
              "  line-height: 1.2em;\n",
              "}\n",
              "\n",
              "#sk-container-id-1 div.sk-label-container {\n",
              "  text-align: center;\n",
              "}\n",
              "\n",
              "/* Estimator-specific */\n",
              "#sk-container-id-1 div.sk-estimator {\n",
              "  font-family: monospace;\n",
              "  border: 1px dotted var(--sklearn-color-border-box);\n",
              "  border-radius: 0.25em;\n",
              "  box-sizing: border-box;\n",
              "  margin-bottom: 0.5em;\n",
              "  /* unfitted */\n",
              "  background-color: var(--sklearn-color-unfitted-level-0);\n",
              "}\n",
              "\n",
              "#sk-container-id-1 div.sk-estimator.fitted {\n",
              "  /* fitted */\n",
              "  background-color: var(--sklearn-color-fitted-level-0);\n",
              "}\n",
              "\n",
              "/* on hover */\n",
              "#sk-container-id-1 div.sk-estimator:hover {\n",
              "  /* unfitted */\n",
              "  background-color: var(--sklearn-color-unfitted-level-2);\n",
              "}\n",
              "\n",
              "#sk-container-id-1 div.sk-estimator.fitted:hover {\n",
              "  /* fitted */\n",
              "  background-color: var(--sklearn-color-fitted-level-2);\n",
              "}\n",
              "\n",
              "/* Specification for estimator info (e.g. \"i\" and \"?\") */\n",
              "\n",
              "/* Common style for \"i\" and \"?\" */\n",
              "\n",
              ".sk-estimator-doc-link,\n",
              "a:link.sk-estimator-doc-link,\n",
              "a:visited.sk-estimator-doc-link {\n",
              "  float: right;\n",
              "  font-size: smaller;\n",
              "  line-height: 1em;\n",
              "  font-family: monospace;\n",
              "  background-color: var(--sklearn-color-background);\n",
              "  border-radius: 1em;\n",
              "  height: 1em;\n",
              "  width: 1em;\n",
              "  text-decoration: none !important;\n",
              "  margin-left: 1ex;\n",
              "  /* unfitted */\n",
              "  border: var(--sklearn-color-unfitted-level-1) 1pt solid;\n",
              "  color: var(--sklearn-color-unfitted-level-1);\n",
              "}\n",
              "\n",
              ".sk-estimator-doc-link.fitted,\n",
              "a:link.sk-estimator-doc-link.fitted,\n",
              "a:visited.sk-estimator-doc-link.fitted {\n",
              "  /* fitted */\n",
              "  border: var(--sklearn-color-fitted-level-1) 1pt solid;\n",
              "  color: var(--sklearn-color-fitted-level-1);\n",
              "}\n",
              "\n",
              "/* On hover */\n",
              "div.sk-estimator:hover .sk-estimator-doc-link:hover,\n",
              ".sk-estimator-doc-link:hover,\n",
              "div.sk-label-container:hover .sk-estimator-doc-link:hover,\n",
              ".sk-estimator-doc-link:hover {\n",
              "  /* unfitted */\n",
              "  background-color: var(--sklearn-color-unfitted-level-3);\n",
              "  color: var(--sklearn-color-background);\n",
              "  text-decoration: none;\n",
              "}\n",
              "\n",
              "div.sk-estimator.fitted:hover .sk-estimator-doc-link.fitted:hover,\n",
              ".sk-estimator-doc-link.fitted:hover,\n",
              "div.sk-label-container:hover .sk-estimator-doc-link.fitted:hover,\n",
              ".sk-estimator-doc-link.fitted:hover {\n",
              "  /* fitted */\n",
              "  background-color: var(--sklearn-color-fitted-level-3);\n",
              "  color: var(--sklearn-color-background);\n",
              "  text-decoration: none;\n",
              "}\n",
              "\n",
              "/* Span, style for the box shown on hovering the info icon */\n",
              ".sk-estimator-doc-link span {\n",
              "  display: none;\n",
              "  z-index: 9999;\n",
              "  position: relative;\n",
              "  font-weight: normal;\n",
              "  right: .2ex;\n",
              "  padding: .5ex;\n",
              "  margin: .5ex;\n",
              "  width: min-content;\n",
              "  min-width: 20ex;\n",
              "  max-width: 50ex;\n",
              "  color: var(--sklearn-color-text);\n",
              "  box-shadow: 2pt 2pt 4pt #999;\n",
              "  /* unfitted */\n",
              "  background: var(--sklearn-color-unfitted-level-0);\n",
              "  border: .5pt solid var(--sklearn-color-unfitted-level-3);\n",
              "}\n",
              "\n",
              ".sk-estimator-doc-link.fitted span {\n",
              "  /* fitted */\n",
              "  background: var(--sklearn-color-fitted-level-0);\n",
              "  border: var(--sklearn-color-fitted-level-3);\n",
              "}\n",
              "\n",
              ".sk-estimator-doc-link:hover span {\n",
              "  display: block;\n",
              "}\n",
              "\n",
              "/* \"?\"-specific style due to the `<a>` HTML tag */\n",
              "\n",
              "#sk-container-id-1 a.estimator_doc_link {\n",
              "  float: right;\n",
              "  font-size: 1rem;\n",
              "  line-height: 1em;\n",
              "  font-family: monospace;\n",
              "  background-color: var(--sklearn-color-background);\n",
              "  border-radius: 1rem;\n",
              "  height: 1rem;\n",
              "  width: 1rem;\n",
              "  text-decoration: none;\n",
              "  /* unfitted */\n",
              "  color: var(--sklearn-color-unfitted-level-1);\n",
              "  border: var(--sklearn-color-unfitted-level-1) 1pt solid;\n",
              "}\n",
              "\n",
              "#sk-container-id-1 a.estimator_doc_link.fitted {\n",
              "  /* fitted */\n",
              "  border: var(--sklearn-color-fitted-level-1) 1pt solid;\n",
              "  color: var(--sklearn-color-fitted-level-1);\n",
              "}\n",
              "\n",
              "/* On hover */\n",
              "#sk-container-id-1 a.estimator_doc_link:hover {\n",
              "  /* unfitted */\n",
              "  background-color: var(--sklearn-color-unfitted-level-3);\n",
              "  color: var(--sklearn-color-background);\n",
              "  text-decoration: none;\n",
              "}\n",
              "\n",
              "#sk-container-id-1 a.estimator_doc_link.fitted:hover {\n",
              "  /* fitted */\n",
              "  background-color: var(--sklearn-color-fitted-level-3);\n",
              "}\n",
              "</style><div id=\"sk-container-id-1\" class=\"sk-top-container\"><div class=\"sk-text-repr-fallback\"><pre>HistGradientBoostingClassifier(categorical_features=&#x27;from_dtype&#x27;,\n",
              "                               random_state=0)</pre><b>In a Jupyter environment, please rerun this cell to show the HTML representation or trust the notebook. <br />On GitHub, the HTML representation is unable to render, please try loading this page with nbviewer.org.</b></div><div class=\"sk-container\" hidden><div class=\"sk-item\"><div class=\"sk-estimator fitted sk-toggleable\"><input class=\"sk-toggleable__control sk-hidden--visually\" id=\"sk-estimator-id-1\" type=\"checkbox\" checked><label for=\"sk-estimator-id-1\" class=\"sk-toggleable__label fitted sk-toggleable__label-arrow fitted\">&nbsp;&nbsp;HistGradientBoostingClassifier<a class=\"sk-estimator-doc-link fitted\" rel=\"noreferrer\" target=\"_blank\" href=\"https://scikit-learn.org/1.4/modules/generated/sklearn.ensemble.HistGradientBoostingClassifier.html\">?<span>Documentation for HistGradientBoostingClassifier</span></a><span class=\"sk-estimator-doc-link fitted\">i<span>Fitted</span></span></label><div class=\"sk-toggleable__content fitted\"><pre>HistGradientBoostingClassifier(categorical_features=&#x27;from_dtype&#x27;,\n",
              "                               random_state=0)</pre></div> </div></div></div></div>"
            ],
            "text/plain": [
              "HistGradientBoostingClassifier(categorical_features='from_dtype',\n",
              "                               random_state=0)"
            ]
          },
          "execution_count": 26,
          "metadata": {},
          "output_type": "execute_result"
        }
      ],
      "source": [
        "model"
      ]
    },
    {
      "cell_type": "code",
      "execution_count": null,
      "metadata": {
        "colab": {
          "base_uri": "https://localhost:8080/"
        },
        "id": "kvQSUyOyl24G",
        "outputId": "dc69810c-9b45-4f68-e453-a1972ea303b9"
      },
      "outputs": [],
      "source": [
        "model.predict([[3,5,6,5]])\n",
        "model.predict([[.4,.2,.1,.6]])"
      ]
    },
    {
      "cell_type": "code",
      "execution_count": null,
      "metadata": {
        "id": "nQjqX2WADXZc"
      },
      "outputs": [],
      "source": []
    },
    {
      "cell_type": "markdown",
      "metadata": {
        "id": "HWDQUtyMowD_"
      },
      "source": [
        "Keep Learning:\n",
        "\n"
      ]
    },
    {
      "cell_type": "code",
      "execution_count": null,
      "metadata": {
        "id": "vrg5hIHt8Cic"
      },
      "outputs": [],
      "source": []
    },
    {
      "cell_type": "code",
      "execution_count": null,
      "metadata": {
        "id": "yWjGImpsBP2s"
      },
      "outputs": [],
      "source": []
    }
  ],
  "metadata": {
    "colab": {
      "provenance": []
    },
    "kernelspec": {
      "display_name": "Python 3",
      "name": "python3"
    },
    "language_info": {
      "name": "python"
    }
  },
  "nbformat": 4,
  "nbformat_minor": 0
}
